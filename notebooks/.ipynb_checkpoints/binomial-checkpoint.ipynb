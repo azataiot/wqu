{
 "cells": [
  {
   "cell_type": "code",
   "execution_count": 1,
   "id": "fa889175-416e-4f33-a50b-02120bb06d84",
   "metadata": {},
   "outputs": [],
   "source": [
    "from wqu.dp.binomial import binomial_call"
   ]
  },
  {
   "cell_type": "code",
   "execution_count": 2,
   "id": "574321ba-b286-4002-bee9-4b815ed5c234",
   "metadata": {},
   "outputs": [],
   "source": [
    "price,_,_ = binomial_call(100, 90, 10, 0, 1.2, 0.8, 10)"
   ]
  },
  {
   "cell_type": "code",
   "execution_count": 3,
   "id": "f8a75b4f-f670-407b-8f20-15b1bde81a84",
   "metadata": {},
   "outputs": [
    {
     "data": {
      "text/plain": [
       "np.float64(29.38454450999999)"
      ]
     },
     "execution_count": 3,
     "metadata": {},
     "output_type": "execute_result"
    }
   ],
   "source": [
    "price"
   ]
  },
  {
   "cell_type": "code",
   "execution_count": null,
   "id": "5a01095c-56de-432f-bbbc-6d949d3d73de",
   "metadata": {},
   "outputs": [],
   "source": []
  }
 ],
 "metadata": {
  "kernelspec": {
   "display_name": "Python 3 (ipykernel)",
   "language": "python",
   "name": "python3"
  },
  "language_info": {
   "codemirror_mode": {
    "name": "ipython",
    "version": 3
   },
   "file_extension": ".py",
   "mimetype": "text/x-python",
   "name": "python",
   "nbconvert_exporter": "python",
   "pygments_lexer": "ipython3",
   "version": "3.13.3"
  }
 },
 "nbformat": 4,
 "nbformat_minor": 5
}
