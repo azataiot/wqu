{
 "cells": [
  {
   "cell_type": "code",
   "execution_count": 2,
   "id": "18aa193c-3202-452d-98eb-02fa5d7867ff",
   "metadata": {},
   "outputs": [
    {
     "name": "stdout",
     "output_type": "stream",
     "text": [
      "Option Price: 10.450583572185565\n",
      "Delta: 0.6368306511756191\n",
      "Gamma: 0.018762017345846895\n",
      "Vega: 37.52403469169379\n",
      "Theta: -6.414027546438197\n",
      "Rho: 53.232481545376345\n"
     ]
    }
   ],
   "source": [
    "from wqu.dp import BlackScholes\n",
    "\n",
    "# Example: A call option\n",
    "bs = BlackScholes(S0=100, K=100, T=1, r=0.05, sigma=0.2, option_type=\"call\")\n",
    "\n",
    "print(\"Option Price:\", bs.price())\n",
    "print(\"Delta:\", bs.delta())\n",
    "print(\"Gamma:\", bs.gamma())\n",
    "print(\"Vega:\", bs.vega())\n",
    "print(\"Theta:\", bs.theta())\n",
    "print(\"Rho:\", bs.rho())"
   ]
  },
  {
   "cell_type": "code",
   "execution_count": 3,
   "id": "1fa5a8c7-b8d8-48a6-8abc-6cb3ed660409",
   "metadata": {},
   "outputs": [
    {
     "ename": "AttributeError",
     "evalue": "'BlackScholes' object has no attribute 'to_dict'",
     "output_type": "error",
     "traceback": [
      "\u001b[0;31m---------------------------------------------------------------------------\u001b[0m",
      "\u001b[0;31mAttributeError\u001b[0m                            Traceback (most recent call last)",
      "Cell \u001b[0;32mIn[3], line 2\u001b[0m\n\u001b[1;32m      1\u001b[0m bs \u001b[38;5;241m=\u001b[39m BlackScholes(S0\u001b[38;5;241m=\u001b[39m\u001b[38;5;241m100\u001b[39m, K\u001b[38;5;241m=\u001b[39m\u001b[38;5;241m100\u001b[39m, T\u001b[38;5;241m=\u001b[39m\u001b[38;5;241m1\u001b[39m, r\u001b[38;5;241m=\u001b[39m\u001b[38;5;241m0.05\u001b[39m, sigma\u001b[38;5;241m=\u001b[39m\u001b[38;5;241m0.2\u001b[39m)\n\u001b[0;32m----> 2\u001b[0m \u001b[38;5;28mprint\u001b[39m(\u001b[43mbs\u001b[49m\u001b[38;5;241;43m.\u001b[39;49m\u001b[43mto_dict\u001b[49m())\n\u001b[1;32m      4\u001b[0m bs\u001b[38;5;241m.\u001b[39mplot_greeks(S_range\u001b[38;5;241m=\u001b[39m(\u001b[38;5;241m80\u001b[39m, \u001b[38;5;241m120\u001b[39m))\n",
      "\u001b[0;31mAttributeError\u001b[0m: 'BlackScholes' object has no attribute 'to_dict'"
     ]
    }
   ],
   "source": [
    "bs = BlackScholes(S0=100, K=76, T=1, r=0.05, sigma=0.2, option_type=\"put\")\n",
    "print(bs.to_dict())\n",
    "\n",
    "bs.plot_greeks(S_range=(80, 120))"
   ]
  },
  {
   "cell_type": "code",
   "execution_count": null,
   "id": "853c570e-e9a2-40dc-b656-92fc9a687860",
   "metadata": {},
   "outputs": [],
   "source": []
  }
 ],
 "metadata": {
  "kernelspec": {
   "display_name": "Python 3 (ipykernel)",
   "language": "python",
   "name": "python3"
  },
  "language_info": {
   "codemirror_mode": {
    "name": "ipython",
    "version": 3
   },
   "file_extension": ".py",
   "mimetype": "text/x-python",
   "name": "python",
   "nbconvert_exporter": "python",
   "pygments_lexer": "ipython3",
   "version": "3.13.3"
  }
 },
 "nbformat": 4,
 "nbformat_minor": 5
}
